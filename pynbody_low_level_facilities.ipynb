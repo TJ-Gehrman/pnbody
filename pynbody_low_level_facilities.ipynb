{
 "cells": [
  {
   "cell_type": "code",
   "execution_count": 7,
   "id": "3e59c70e-4881-4733-82dc-8456da0be7f9",
   "metadata": {},
   "outputs": [],
   "source": [
    "import pynbody\n",
    "\n",
    "import numpy as np \n",
    "\n",
    "f = pynbody.load(\"testdata/test_g2_snap\")"
   ]
  },
  {
   "cell_type": "code",
   "execution_count": 3,
   "id": "dc1ec5db-339d-4c9b-a40e-a85f027540ce",
   "metadata": {},
   "outputs": [
    {
     "data": {
      "text/plain": [
       "8192"
      ]
     },
     "execution_count": 3,
     "metadata": {},
     "output_type": "execute_result"
    }
   ],
   "source": [
    "# number of particles in the file\n",
    "len(f)"
   ]
  },
  {
   "cell_type": "code",
   "execution_count": 4,
   "id": "dae59790-a62b-424e-a5a6-f1ad4f2b338b",
   "metadata": {},
   "outputs": [
    {
     "data": {
      "text/plain": [
       "[<Family gas>, <Family dm>, <Family star>]"
      ]
     },
     "execution_count": 4,
     "metadata": {},
     "output_type": "execute_result"
    }
   ],
   "source": [
    "# lists different types of objects in the file. In this case it's dark matter, stars, and gas\n",
    "f.families()"
   ]
  },
  {
   "cell_type": "code",
   "execution_count": 10,
   "id": "f103b287-de87-43c0-ac5f-4460f8aa9539",
   "metadata": {},
   "outputs": [
    {
     "data": {
      "text/plain": [
       "4096"
      ]
     },
     "execution_count": 10,
     "metadata": {},
     "output_type": "execute_result"
    }
   ],
   "source": [
    "# total number of dark matter particles\n",
    "len(f.dm)"
   ]
  },
  {
   "cell_type": "code",
   "execution_count": 8,
   "id": "0192b86b-3798-42c4-9bb5-2c1242dea4d7",
   "metadata": {},
   "outputs": [
    {
     "data": {
      "text/plain": [
       "4039"
      ]
     },
     "execution_count": 8,
     "metadata": {},
     "output_type": "execute_result"
    }
   ],
   "source": [
    "# total number of gas particles\n",
    "len(f.gas)"
   ]
  },
  {
   "cell_type": "code",
   "execution_count": 9,
   "id": "751a25fc-759c-48b8-a937-2874f188aed2",
   "metadata": {},
   "outputs": [
    {
     "data": {
      "text/plain": [
       "57"
      ]
     },
     "execution_count": 9,
     "metadata": {},
     "output_type": "execute_result"
    }
   ],
   "source": [
    "# total number of stars\n",
    "len(f.star)"
   ]
  },
  {
   "cell_type": "code",
   "execution_count": 11,
   "id": "c20c7ad0-da81-4bb0-a678-64e512358ee7",
   "metadata": {},
   "outputs": [
    {
     "data": {
      "text/plain": [
       "{'omegaM0': 0.2669,\n",
       " 'omegaL0': 0.7331,\n",
       " 'boxsize': Unit(\"3.00e+03 kpc a h**-1\"),\n",
       " 'a': 0.2777777798158637,\n",
       " 'h': 0.71,\n",
       " 'time': Unit(\"3.55e+00 s kpc a**1/2 h**-1 km**-1\")}"
      ]
     },
     "execution_count": 11,
     "metadata": {},
     "output_type": "execute_result"
    }
   ],
   "source": [
    "# gives properties of the file\n",
    "f.properties"
   ]
  },
  {
   "cell_type": "code",
   "execution_count": 8,
   "id": "b7a44afa-9cc7-4b74-a4ac-fbb5abcc5dca",
   "metadata": {},
   "outputs": [
    {
     "data": {
      "text/plain": [
       "0.2777777798158637"
      ]
     },
     "execution_count": 8,
     "metadata": {},
     "output_type": "execute_result"
    }
   ],
   "source": [
    "f.properties['a']"
   ]
  },
  {
   "cell_type": "code",
   "execution_count": 17,
   "id": "734cc5bd-9e8d-4105-95ec-a77a9af9a58f",
   "metadata": {},
   "outputs": [
    {
     "data": {
      "text/plain": [
       "Unit(\"3.55e+00 s kpc a**1/2 h**-1 km**-1\")"
      ]
     },
     "execution_count": 17,
     "metadata": {},
     "output_type": "execute_result"
    }
   ],
   "source": [
    "f.properties['time']"
   ]
  },
  {
   "cell_type": "code",
   "execution_count": 9,
   "id": "245e1a98-47b2-4d17-995a-a193e0cc07f6",
   "metadata": {},
   "outputs": [
    {
     "data": {
      "text/plain": [
       "[]"
      ]
     },
     "execution_count": 9,
     "metadata": {},
     "output_type": "execute_result"
    }
   ],
   "source": [
    "f.keys()"
   ]
  },
  {
   "cell_type": "code",
   "execution_count": 10,
   "id": "da978ed9-cf31-4188-a944-f8c5291167f9",
   "metadata": {},
   "outputs": [
    {
     "data": {
      "text/plain": [
       "['mass', 'iord', 'vel', 'pos']"
      ]
     },
     "execution_count": 10,
     "metadata": {},
     "output_type": "execute_result"
    }
   ],
   "source": [
    "# Loads the keys mass, velocity, position\n",
    "f.loadable_keys()"
   ]
  },
  {
   "cell_type": "code",
   "execution_count": 11,
   "id": "b8dcecc8",
   "metadata": {},
   "outputs": [
    {
     "data": {
      "text/plain": [
       "SimArray([[  53.318974,  177.84364 ,  128.22311 ],\n",
       "          [ 306.75046 ,  140.44455 ,  215.37149 ],\n",
       "          [ 310.99908 ,   64.1345  ,  210.53595 ],\n",
       "          ...,\n",
       "          [2870.9016  , 2940.1711  , 1978.7949  ],\n",
       "          [2872.4114  , 2939.2197  , 1983.916   ],\n",
       "          [2863.6511  , 2938.0544  , 1980.0615  ]], dtype=float32, 'kpc a h**-1')"
      ]
     },
     "execution_count": 11,
     "metadata": {},
     "output_type": "execute_result"
    }
   ],
   "source": [
    "# prints out the positions\n",
    "f['pos']"
   ]
  },
  {
   "cell_type": "code",
   "execution_count": 12,
   "id": "bd965c49",
   "metadata": {},
   "outputs": [
    {
     "data": {
      "text/plain": [
       "SimArray([[ 53.009186 ,   9.455915 , -18.99049  ],\n",
       "          [ 29.146519 ,  10.978111 ,   8.278507 ],\n",
       "          [-15.856897 ,  -5.4805923,  43.27875  ],\n",
       "          ...,\n",
       "          [ 52.65036  , 162.41791  ,  29.470728 ],\n",
       "          [ 77.328804 , 112.78491  ,  83.94869  ],\n",
       "          [ 72.82845  , 130.23474  ,  87.30598  ]], dtype=float32, 'km a**1/2 s**-1')"
      ]
     },
     "execution_count": 12,
     "metadata": {},
     "output_type": "execute_result"
    }
   ],
   "source": [
    "# Prints out the velocity \n",
    "f['vel']"
   ]
  },
  {
   "cell_type": "code",
   "execution_count": 13,
   "id": "99ea482c",
   "metadata": {},
   "outputs": [
    {
     "data": {
      "text/plain": [
       "SimArray([0.00821469, 0.00821469, 0.00821469, ..., 0.00821469, 0.00821469,\n",
       "          0.00821469], dtype=float32, '1.00e+10 Msol h**-1')"
      ]
     },
     "execution_count": 13,
     "metadata": {},
     "output_type": "execute_result"
    }
   ],
   "source": [
    "# Prints out mass \n",
    "f['mass']"
   ]
  },
  {
   "cell_type": "code",
   "execution_count": 14,
   "id": "aca99865",
   "metadata": {},
   "outputs": [
    {
     "data": {
      "text/plain": [
       "SimArray([1.3888609e-09, 3.3617684e-09, 4.5273674e-09, ..., 8.5340952e-09,\n",
       "          7.4101774e-09, 1.4051752e-09], dtype=float32, '1.00e+10 h**2 Msol a**-3 kpc**-3')"
      ]
     },
     "execution_count": 14,
     "metadata": {},
     "output_type": "execute_result"
    }
   ],
   "source": [
    "Prints out density \n",
    "f.gas['rho']"
   ]
  },
  {
   "cell_type": "code",
   "execution_count": 16,
   "id": "23d1cec1",
   "metadata": {},
   "outputs": [
    {
     "data": {
      "text/plain": [
       "['mass',\n",
       " 'rho',\n",
       " 'iord',\n",
       " 'vel',\n",
       " 'u',\n",
       " 'nh',\n",
       " 'nhp',\n",
       " 'nhe',\n",
       " 'pos',\n",
       " 'smooth',\n",
       " 'nheq',\n",
       " 'sfr',\n",
       " 'nhep']"
      ]
     },
     "execution_count": 16,
     "metadata": {},
     "output_type": "execute_result"
    }
   ],
   "source": [
    "# prints out the keys for gas in the simulation snap shot\n",
    "f.gas.loadable_keys()"
   ]
  },
  {
   "cell_type": "code",
   "execution_count": 17,
   "id": "ea96ccf0",
   "metadata": {},
   "outputs": [
    {
     "data": {
      "text/plain": [
       "SimArray([3859,  275,  530, ..., 7976, 7978, 4170], dtype=int32)"
      ]
     },
     "execution_count": 17,
     "metadata": {},
     "output_type": "execute_result"
    }
   ],
   "source": [
    "f.gas['iord']"
   ]
  },
  {
   "cell_type": "code",
   "execution_count": 18,
   "id": "b81882e1",
   "metadata": {},
   "outputs": [],
   "source": [
    "# creates a new arrary in f that is twice the mass\n",
    "f['twicethemass'] = f['mass']*2"
   ]
  },
  {
   "cell_type": "code",
   "execution_count": 19,
   "id": "6e52d8c2",
   "metadata": {},
   "outputs": [
    {
     "data": {
      "text/plain": [
       "SimArray([0.01642939, 0.01642939, 0.01642939, ..., 0.01642939, 0.01642939,\n",
       "          0.01642939], dtype=float32, '1.00e+10 Msol h**-1')"
      ]
     },
     "execution_count": 19,
     "metadata": {},
     "output_type": "execute_result"
    }
   ],
   "source": [
    "f['twicethemass']"
   ]
  },
  {
   "cell_type": "code",
   "execution_count": 20,
   "id": "4da134e6",
   "metadata": {},
   "outputs": [
    {
     "data": {
      "text/plain": [
       "SimArray([0.00821469, 0.00821469, 0.00821469, ..., 0.00821469, 0.00821469,\n",
       "          0.00821469], dtype=float32, '1.00e+10 Msol h**-1')"
      ]
     },
     "execution_count": 20,
     "metadata": {},
     "output_type": "execute_result"
    }
   ],
   "source": [
    "f['mass']"
   ]
  },
  {
   "cell_type": "code",
   "execution_count": 21,
   "id": "c4bbcb58",
   "metadata": {},
   "outputs": [
    {
     "data": {
      "text/plain": [
       "['mass',\n",
       " 'rho',\n",
       " 'iord',\n",
       " 'vel',\n",
       " 'u',\n",
       " 'nh',\n",
       " 'nhp',\n",
       " 'nhe',\n",
       " 'pos',\n",
       " 'smooth',\n",
       " 'nheq',\n",
       " 'sfr',\n",
       " 'nhep']"
      ]
     },
     "execution_count": 21,
     "metadata": {},
     "output_type": "execute_result"
    }
   ],
   "source": [
    "f.gas.loadable_keys()"
   ]
  },
  {
   "cell_type": "code",
   "execution_count": 22,
   "id": "f2fb73f2",
   "metadata": {},
   "outputs": [],
   "source": [
    "# defining new arrarys for one family of particles i.e. gas only\n",
    "f.gas['myarrary'] = f.gas['rho']**2"
   ]
  },
  {
   "cell_type": "code",
   "execution_count": 23,
   "id": "d13a1823",
   "metadata": {},
   "outputs": [
    {
     "data": {
      "text/plain": [
       "SimArray([1.9289347e-18, 1.1301487e-17, 2.0497056e-17, ..., 7.2830778e-17,\n",
       "          5.4910727e-17, 1.9745173e-18], dtype=float32, '1.00e+20 h**4 Msol**2 a**-6 kpc**-6')"
      ]
     },
     "execution_count": 23,
     "metadata": {},
     "output_type": "execute_result"
    }
   ],
   "source": [
    "f.gas['myarrary']"
   ]
  },
  {
   "cell_type": "code",
   "execution_count": 25,
   "id": "3f81dd44",
   "metadata": {},
   "outputs": [],
   "source": [
    "@pynbody.derived_array\n",
    "def thricethemass(sim) :\n",
    "    return sim['mass']*3"
   ]
  },
  {
   "cell_type": "code",
   "execution_count": 29,
   "id": "e1fef766",
   "metadata": {},
   "outputs": [
    {
     "data": {
      "text/plain": [
       "SimArray([0.02464408, 0.02464408, 0.02464408, ..., 0.02464408, 0.02464408,\n",
       "          0.02464408], dtype=float32, '1.00e+10 Msol h**-1')"
      ]
     },
     "execution_count": 29,
     "metadata": {},
     "output_type": "execute_result"
    }
   ],
   "source": [
    "thricethemass(f)"
   ]
  },
  {
   "cell_type": "code",
   "execution_count": 30,
   "id": "015c161d",
   "metadata": {},
   "outputs": [
    {
     "data": {
      "text/plain": [
       "SimArray([0.02464408, 0.02464408, 0.02464408, ..., 0.02464408, 0.02464408,\n",
       "          0.02464408], dtype=float32, '1.00e+10 Msol h**-1')"
      ]
     },
     "execution_count": 30,
     "metadata": {},
     "output_type": "execute_result"
    }
   ],
   "source": [
    "# Both ways work\n",
    "f['thricethemass']"
   ]
  },
  {
   "cell_type": "code",
   "execution_count": 31,
   "id": "e6e13b94",
   "metadata": {},
   "outputs": [
    {
     "data": {
      "text/plain": [
       "Unit(\"1.00e+10 Msol h**-1\")"
      ]
     },
     "execution_count": 31,
     "metadata": {},
     "output_type": "execute_result"
    }
   ],
   "source": [
    "# accessing units of mass \n",
    "f['mass'].units"
   ]
  },
  {
   "cell_type": "code",
   "execution_count": 33,
   "id": "7372fdab",
   "metadata": {},
   "outputs": [
    {
     "data": {
      "text/plain": [
       "Unit(\"km a**1/2 s**-1\")"
      ]
     },
     "execution_count": 33,
     "metadata": {},
     "output_type": "execute_result"
    }
   ],
   "source": [
    "# accessing units of velocity\n",
    "f['vel'].units"
   ]
  },
  {
   "cell_type": "code",
   "execution_count": 34,
   "id": "e278d5e7",
   "metadata": {},
   "outputs": [
    {
     "data": {
      "text/plain": [
       "SimArray([[0.02086032, 0.06957889, 0.05016554],\n",
       "          [0.12001192, 0.05494701, 0.08426115],\n",
       "          [0.12167414, 0.02509174, 0.08236931],\n",
       "          ...,\n",
       "          [1.1232009 , 1.1503017 , 0.7741764 ],\n",
       "          [1.1237916 , 1.1499294 , 0.77617997],\n",
       "          [1.1203643 , 1.1494735 , 0.774672  ]], dtype=float32, 'Mpc')"
      ]
     },
     "execution_count": 34,
     "metadata": {},
     "output_type": "execute_result"
    }
   ],
   "source": [
    "# puts all the positiosn in terms of Mpc\n",
    "f['pos'].in_units('Mpc')"
   ]
  },
  {
   "cell_type": "code",
   "execution_count": 35,
   "id": "7733285b",
   "metadata": {},
   "outputs": [
    {
     "data": {
      "text/plain": [
       "SimArray([[  20860.318,   69578.89 ,   50165.535],\n",
       "          [ 120011.914,   54947.004,   84261.15 ],\n",
       "          [ 121674.13 ,   25091.744,   82369.305],\n",
       "          ...,\n",
       "          [1123200.9  , 1150301.6  ,  774176.4  ],\n",
       "          [1123791.6  , 1149929.5  ,  776179.94 ],\n",
       "          [1120364.2  , 1149473.5  ,  774671.94 ]], dtype=float32, 'pc')"
      ]
     },
     "execution_count": 35,
     "metadata": {},
     "output_type": "execute_result"
    }
   ],
   "source": [
    "f['pos'].in_units('pc')"
   ]
  },
  {
   "cell_type": "code",
   "execution_count": 36,
   "id": "59409879",
   "metadata": {},
   "outputs": [],
   "source": [
    "# converts everything to physical units\n",
    "f.physical_units()"
   ]
  },
  {
   "cell_type": "code",
   "execution_count": 38,
   "id": "9ce97cca",
   "metadata": {},
   "outputs": [
    {
     "data": {
      "text/plain": [
       "SimArray([ 326.6502 ,  790.66406, 1064.8047 , ..., 2007.1586 , 1742.821  ,\n",
       "           330.4872 ], dtype=float32, 'Msol kpc**-3')"
      ]
     },
     "execution_count": 38,
     "metadata": {},
     "output_type": "execute_result"
    }
   ],
   "source": [
    "# All physcal quantity values changed\n",
    "f.gas['rho']"
   ]
  },
  {
   "cell_type": "code",
   "execution_count": 39,
   "id": "5728c418",
   "metadata": {},
   "outputs": [
    {
     "data": {
      "text/plain": [
       "SimArray([[ 27.938293 ,   4.983705 , -10.008866 ],\n",
       "          [ 15.361564 ,   5.7859726,   4.3631563],\n",
       "          [ -8.357319 ,  -2.8885257,  22.809904 ],\n",
       "          ...,\n",
       "          [ 27.749176 ,  85.60175  ,  15.532437 ],\n",
       "          [ 40.755856 ,  59.442867 ,  44.244846 ],\n",
       "          [ 38.383965 ,  68.63973  ,  46.01429  ]], dtype=float32, 'km s**-1')"
      ]
     },
     "execution_count": 39,
     "metadata": {},
     "output_type": "execute_result"
    }
   ],
   "source": [
    "f['vel']"
   ]
  },
  {
   "cell_type": "code",
   "execution_count": 40,
   "id": "410e0a7a",
   "metadata": {},
   "outputs": [
    {
     "data": {
      "text/plain": [
       "SimArray([[139.69147 ,  24.918526, -50.04433 ],\n",
       "          [ 76.807816,  28.929863,  21.81578 ],\n",
       "          [-41.786594, -14.442629, 114.04952 ],\n",
       "          ...,\n",
       "          [138.74588 , 428.00876 ,  77.662186],\n",
       "          [203.77928 , 297.21432 , 221.22423 ],\n",
       "          [191.91983 , 343.19867 , 230.07144 ]], dtype=float32, 'km s**-1')"
      ]
     },
     "execution_count": 40,
     "metadata": {},
     "output_type": "execute_result"
    }
   ],
   "source": [
    "5*f['vel']"
   ]
  },
  {
   "cell_type": "code",
   "execution_count": 41,
   "id": "d5c77867",
   "metadata": {},
   "outputs": [
    {
     "data": {
      "text/plain": [
       "Unit(\"km**2 s**-2\")"
      ]
     },
     "execution_count": 41,
     "metadata": {},
     "output_type": "execute_result"
    }
   ],
   "source": [
    "# Units change when you do a binary operation, such as raising the velocity\n",
    "# to the power of 2.\n",
    "\n",
    "(f['vel']**2).units"
   ]
  },
  {
   "cell_type": "code",
   "execution_count": 42,
   "id": "1ea0c9b7",
   "metadata": {},
   "outputs": [
    {
     "data": {
      "text/plain": [
       "Unit(\"km Msol**1/2 s**-1\")"
      ]
     },
     "execution_count": 42,
     "metadata": {},
     "output_type": "execute_result"
    }
   ],
   "source": [
    "np.sqrt(((f['vel']**2).sum(axis=1)*f['mass'])).units"
   ]
  },
  {
   "cell_type": "code",
   "execution_count": 44,
   "id": "9785641b",
   "metadata": {},
   "outputs": [
    {
     "data": {
      "text/plain": [
       "SimArray([0.50068892, 0.88152946, 0.79717327, 0.57081217, 0.76932121,\n",
       "          0.88137336, 0.89987799, 0.21022918, 0.45698475, 0.05632729], 'Mpc a')"
      ]
     },
     "execution_count": 44,
     "metadata": {},
     "output_type": "execute_result"
    }
   ],
   "source": [
    "# Make a numpy array into pynbody arrary\n",
    "array = pynbody.array.SimArray(np.random.rand(10))\n",
    "\n",
    "# Links the new array to the simulation \n",
    "array.sim = f\n",
    "\n",
    "# Set units that require cosmology information \n",
    "array.units = 'Mpc a'\n",
    "\n",
    "array"
   ]
  },
  {
   "cell_type": "code",
   "execution_count": 45,
   "id": "1d511ebe",
   "metadata": {},
   "outputs": [
    {
     "data": {
      "text/plain": [
       "SimArray([139.08025614, 244.86929744, 221.43702233, 158.55893704,\n",
       "          213.70033723, 244.82593641, 249.96610953,  58.3969939 ,\n",
       "          126.9402098 ,  15.64646889], 'kpc')"
      ]
     },
     "execution_count": 45,
     "metadata": {},
     "output_type": "execute_result"
    }
   ],
   "source": [
    "# array in units of kilo parsec\n",
    "array.in_units('kpc')"
   ]
  },
  {
   "cell_type": "code",
   "execution_count": 47,
   "id": "0208c6c2",
   "metadata": {},
   "outputs": [
    {
     "data": {
      "text/plain": [
       "820"
      ]
     },
     "execution_count": 47,
     "metadata": {},
     "output_type": "execute_result"
    }
   ],
   "source": [
    "# takes every tenth particle in the simulation \n",
    "every_tenth = f[::10]\n",
    "\n",
    "# total number of every tenth particle\n",
    "len(every_tenth)"
   ]
  },
  {
   "cell_type": "code",
   "execution_count": 48,
   "id": "dbeb3674",
   "metadata": {},
   "outputs": [
    {
     "data": {
      "text/plain": [
       "SimArray([140.2888 , 122.21798,  75.80529], dtype=float32, 'kpc')"
      ]
     },
     "execution_count": 48,
     "metadata": {},
     "output_type": "execute_result"
    }
   ],
   "source": [
    "# modifying the position of particles\n",
    "every_tenth['pos'][1]"
   ]
  },
  {
   "cell_type": "code",
   "execution_count": 49,
   "id": "d1ba1ed6",
   "metadata": {},
   "outputs": [
    {
     "data": {
      "text/plain": [
       "SimArray([1., 2., 3.], dtype=float32, 'kpc')"
      ]
     },
     "execution_count": 49,
     "metadata": {},
     "output_type": "execute_result"
    }
   ],
   "source": [
    "# changed the position from the above array to 1,2,3\n",
    "every_tenth['pos'][1] = [1,2,3]\n",
    "\n",
    "every_tenth['pos'][1]"
   ]
  },
  {
   "cell_type": "code",
   "execution_count": 50,
   "id": "fd64aed5",
   "metadata": {},
   "outputs": [
    {
     "data": {
      "text/plain": [
       "SimArray([1., 2., 3.], dtype=float32, 'kpc')"
      ]
     },
     "execution_count": 50,
     "metadata": {},
     "output_type": "execute_result"
    }
   ],
   "source": [
    "f['pos'][10]"
   ]
  },
  {
   "cell_type": "code",
   "execution_count": 54,
   "id": "0af3064f",
   "metadata": {},
   "outputs": [
    {
     "data": {
      "text/plain": [
       "SimArray(1000.11975, dtype=float32, 'kpc')"
      ]
     },
     "execution_count": 54,
     "metadata": {},
     "output_type": "execute_result"
    }
   ],
   "source": [
    "# Using numpy boolean operators to set a variable such that it excludes\n",
    "# anything less then 1000 kpc and greater than 2000 kpc in the x-direction\n",
    "f_slab = f[(f['x']>1000)&(f['x']<2000)]\n",
    "\n",
    "f_slab['x'].min()"
   ]
  },
  {
   "cell_type": "code",
   "execution_count": 55,
   "id": "e1c01467",
   "metadata": {},
   "outputs": [
    {
     "data": {
      "text/plain": [
       "SimArray(1173.6926, dtype=float32, 'kpc')"
      ]
     },
     "execution_count": 55,
     "metadata": {},
     "output_type": "execute_result"
    }
   ],
   "source": [
    "f_slab['x'].max()"
   ]
  },
  {
   "cell_type": "code",
   "execution_count": 56,
   "id": "5fb05a8e",
   "metadata": {},
   "outputs": [
    {
     "data": {
      "text/plain": [
       "SimArray(0.04504352, dtype=float32, 'kpc')"
      ]
     },
     "execution_count": 56,
     "metadata": {},
     "output_type": "execute_result"
    }
   ],
   "source": [
    "f['x'].min()"
   ]
  },
  {
   "cell_type": "code",
   "execution_count": 57,
   "id": "397622d1",
   "metadata": {},
   "outputs": [
    {
     "data": {
      "text/plain": [
       "SimArray(1173.6926, dtype=float32, 'kpc')"
      ]
     },
     "execution_count": 57,
     "metadata": {},
     "output_type": "execute_result"
    }
   ],
   "source": [
    "f['x'].max()"
   ]
  },
  {
   "cell_type": "code",
   "execution_count": 58,
   "id": "1b917b04",
   "metadata": {},
   "outputs": [
    {
     "data": {
      "text/plain": [
       "1236"
      ]
     },
     "execution_count": 58,
     "metadata": {},
     "output_type": "execute_result"
    }
   ],
   "source": [
    "# Gives the number of dark matter particles given in the x-coordinate subsnapshot\n",
    "len(f_slab.dm)"
   ]
  },
  {
   "cell_type": "code",
   "execution_count": 59,
   "id": "a93bb06e",
   "metadata": {},
   "outputs": [
    {
     "data": {
      "text/plain": [
       "124"
      ]
     },
     "execution_count": 59,
     "metadata": {},
     "output_type": "execute_result"
    }
   ],
   "source": [
    "# Gives the number of dark matter particles given in the x-coordinate\n",
    "# skipping ID or position by 10s. sub-subsnapshot\n",
    "len(f_slab.dm[::10])"
   ]
  },
  {
   "cell_type": "code",
   "execution_count": 60,
   "id": "7588ecc3",
   "metadata": {},
   "outputs": [
    {
     "data": {
      "text/plain": [
       "SimArray([[1029.6443 ,  421.70737,  169.25818],\n",
       "          [1097.2487 ,  377.8681 ,  149.81082],\n",
       "          [1059.9261 ,  374.7446 ,  192.37201]], dtype=float32, 'kpc')"
      ]
     },
     "execution_count": 60,
     "metadata": {},
     "output_type": "execute_result"
    }
   ],
   "source": [
    "# Not sure what this does something with position and gas.\n",
    "f_slab[[100,105,252]].gas['pos']"
   ]
  },
  {
   "cell_type": "code",
   "execution_count": 61,
   "id": "0edbd80c",
   "metadata": {},
   "outputs": [],
   "source": [
    "from pynbody.filt import *\n",
    "\n",
    "f_sphere = f[Sphere('10 kpc')]"
   ]
  },
  {
   "cell_type": "code",
   "execution_count": null,
   "id": "38ff4ed8",
   "metadata": {},
   "outputs": [],
   "source": []
  }
 ],
 "metadata": {
  "kernelspec": {
   "display_name": "Python 3",
   "language": "python",
   "name": "python3"
  },
  "language_info": {
   "codemirror_mode": {
    "name": "ipython",
    "version": 3
   },
   "file_extension": ".py",
   "mimetype": "text/x-python",
   "name": "python",
   "nbconvert_exporter": "python",
   "pygments_lexer": "ipython3",
   "version": "3.8.8"
  }
 },
 "nbformat": 4,
 "nbformat_minor": 5
}
