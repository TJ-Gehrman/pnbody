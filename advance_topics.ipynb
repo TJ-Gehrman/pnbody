{
 "cells": [
  {
   "cell_type": "code",
   "execution_count": 30,
   "id": "3e59c70e-4881-4733-82dc-8456da0be7f9",
   "metadata": {},
   "outputs": [
    {
     "name": "stdout",
     "output_type": "stream",
     "text": [
      "CPU times: user 7 µs, sys: 0 ns, total: 7 µs\n",
      "Wall time: 11 µs\n"
     ]
    },
    {
     "data": {
      "text/plain": [
       "array([  0.,   0.,   0.,   0., 100.,   0.,   0.,   0.,   0.,   0.])"
      ]
     },
     "execution_count": 30,
     "metadata": {},
     "output_type": "execute_result"
    }
   ],
   "source": [
    "# Performance Optimisation in Pynbody. Good for large arrarys. \n",
    "# Actual simulations\n",
    "\n",
    "import numpy as np\n",
    "\n",
    "import pynbody\n",
    "\n",
    "a = np.zeros(10)\n",
    "\n",
    "b = a[3:5]\n",
    "\n",
    "%time b[1] = 100\n",
    "\n",
    "a"
   ]
  },
  {
   "cell_type": "code",
   "execution_count": 31,
   "id": "78ed663e",
   "metadata": {},
   "outputs": [
    {
     "name": "stdout",
     "output_type": "stream",
     "text": [
      "CPU times: user 6 µs, sys: 0 ns, total: 6 µs\n",
      "Wall time: 8.82 µs\n"
     ]
    },
    {
     "data": {
      "text/plain": [
       "array([  0.,   0.,   0.,   0., 100.,   0.,   0.,   0.,   0.,   0.])"
      ]
     },
     "execution_count": 31,
     "metadata": {},
     "output_type": "execute_result"
    }
   ],
   "source": [
    "c = a[[4,5,6]]\n",
    "\n",
    "%time c[1] = 200\n",
    "\n",
    "a"
   ]
  },
  {
   "cell_type": "code",
   "execution_count": 32,
   "id": "ac180fbd",
   "metadata": {},
   "outputs": [
    {
     "name": "stdout",
     "output_type": "stream",
     "text": [
      "CPU times: user 11 µs, sys: 1 µs, total: 12 µs\n",
      "Wall time: 13.8 µs\n"
     ]
    },
    {
     "data": {
      "text/plain": [
       "array([  0.,   0.,   0.,   0., 100., 200.,   0.,   0.,   0.,   0.])"
      ]
     },
     "execution_count": 32,
     "metadata": {},
     "output_type": "execute_result"
    }
   ],
   "source": [
    "d = pynbody.array.IndexedSimArray(a,[4,5,6,7])\n",
    "\n",
    "%time d[1] = 200\n",
    "\n",
    "a"
   ]
  },
  {
   "cell_type": "code",
   "execution_count": 10,
   "id": "746d3f77",
   "metadata": {},
   "outputs": [
    {
     "name": "stdout",
     "output_type": "stream",
     "text": [
      "CPU times: user 97.8 ms, sys: 3.57 ms, total: 101 ms\n",
      "Wall time: 100 ms\n"
     ]
    }
   ],
   "source": [
    "%time for i in range(10000) : d+=1"
   ]
  },
  {
   "cell_type": "code",
   "execution_count": 13,
   "id": "2d62b564",
   "metadata": {},
   "outputs": [
    {
     "name": "stdout",
     "output_type": "stream",
     "text": [
      "CPU times: user 1.23 s, sys: 8.19 ms, total: 1.24 s\n",
      "Wall time: 1.25 s\n"
     ]
    }
   ],
   "source": [
    "%time for i in range(900000) : a+=1"
   ]
  },
  {
   "cell_type": "code",
   "execution_count": 15,
   "id": "2bd70081",
   "metadata": {},
   "outputs": [],
   "source": [
    "# creating new test snapshot \n",
    "f = pynbody.new(dm=100)\n",
    "\n",
    "sub_f = f[[20,21,22]]"
   ]
  },
  {
   "cell_type": "code",
   "execution_count": 16,
   "id": "3255f196",
   "metadata": {},
   "outputs": [],
   "source": [
    "sub_mass = sub_f['mass']"
   ]
  },
  {
   "cell_type": "code",
   "execution_count": 17,
   "id": "20967b0a",
   "metadata": {},
   "outputs": [
    {
     "data": {
      "text/plain": [
       "pynbody.array.IndexedSimArray"
      ]
     },
     "execution_count": 17,
     "metadata": {},
     "output_type": "execute_result"
    }
   ],
   "source": [
    "type(sub_mass)"
   ]
  },
  {
   "cell_type": "code",
   "execution_count": 18,
   "id": "1fa0eaa6",
   "metadata": {},
   "outputs": [],
   "source": [
    "sub_mass[:]=3"
   ]
  },
  {
   "cell_type": "code",
   "execution_count": 19,
   "id": "2a85e9fd",
   "metadata": {},
   "outputs": [
    {
     "data": {
      "text/plain": [
       "SimArray([3., 3., 3.])"
      ]
     },
     "execution_count": 19,
     "metadata": {},
     "output_type": "execute_result"
    }
   ],
   "source": [
    "f['mass'][[20,21,22]]"
   ]
  },
  {
   "cell_type": "code",
   "execution_count": 23,
   "id": "719ba5f5",
   "metadata": {},
   "outputs": [
    {
     "ename": "AttributeError",
     "evalue": "module 'pynbody' has no attribute 'path'",
     "output_type": "error",
     "traceback": [
      "\u001b[0;31m---------------------------------------------------------------------------\u001b[0m",
      "\u001b[0;31mAttributeError\u001b[0m                            Traceback (most recent call last)",
      "\u001b[0;32m<ipython-input-23-4dca12b7f047>\u001b[0m in \u001b[0;36m<module>\u001b[0;34m\u001b[0m\n\u001b[1;32m      1\u001b[0m \u001b[0;31m# Configuring Pynbody\u001b[0m\u001b[0;34m\u001b[0m\u001b[0;34m\u001b[0m\u001b[0;34m\u001b[0m\u001b[0m\n\u001b[1;32m      2\u001b[0m \u001b[0;34m\u001b[0m\u001b[0m\n\u001b[0;32m----> 3\u001b[0;31m \u001b[0mpynbody\u001b[0m\u001b[0;34m.\u001b[0m\u001b[0mpath\u001b[0m\u001b[0;34m\u001b[0m\u001b[0;34m\u001b[0m\u001b[0m\n\u001b[0m",
      "\u001b[0;31mAttributeError\u001b[0m: module 'pynbody' has no attribute 'path'"
     ]
    }
   ],
   "source": [
    "# Configuring Pynbody\n",
    "\n",
    "pynbody.path"
   ]
  },
  {
   "cell_type": "code",
   "execution_count": 25,
   "id": "f78ae2c7",
   "metadata": {},
   "outputs": [
    {
     "data": {
      "text/plain": [
       "{'verbose': False,\n",
       " 'centering-scheme': 'ssc',\n",
       " 'snap-class-priority': [pynbody.snapshot.ramses.RamsesSnap,\n",
       "  pynbody.snapshot.grafic.GrafICSnap,\n",
       "  pynbody.snapshot.nchilada.NchiladaSnap,\n",
       "  pynbody.snapshot.gadget.GadgetSnap,\n",
       "  pynbody.snapshot.gadgethdf.EagleLikeHDFSnap,\n",
       "  pynbody.snapshot.gadgethdf.GadgetHDFSnap,\n",
       "  pynbody.snapshot.gadgethdf.SubFindHDFSnap,\n",
       "  pynbody.snapshot.tipsy.TipsySnap,\n",
       "  pynbody.snapshot.ascii.AsciiSnap],\n",
       " 'halo-class-priority': [pynbody.halo.GrpCatalogue,\n",
       "  pynbody.halo.AmigaGrpCatalogue,\n",
       "  pynbody.halo.legacy.RockstarIntermediateCatalogue,\n",
       "  pynbody.halo.rockstar.RockstarCatalogue,\n",
       "  pynbody.halo.ahf.AHFCatalogue,\n",
       "  pynbody.halo.subfind.SubfindCatalogue,\n",
       "  pynbody.halo.hop.HOPCatalogue,\n",
       "  pynbody.halo.adaptahop.NewAdaptaHOPCatalogue,\n",
       "  pynbody.halo.adaptahop.AdaptaHOPCatalogue],\n",
       " 'default-cosmology': {'a': 1.0,\n",
       "  'h': 0.6777,\n",
       "  'ns': 0.96,\n",
       "  'running': 0.0,\n",
       "  'omegaL0': 0.691,\n",
       "  'omegaM0': 0.309,\n",
       "  'omegaB0': 0.0482,\n",
       "  'sigma8': 0.8288},\n",
       " 'sph': {'smooth-particles': 32, 'tree-leafsize': 16},\n",
       " 'threading': 'True',\n",
       " 'number_of_threads': 8,\n",
       " 'gravity_calculation_mode': 'direct_omp',\n",
       " 'disk-fit-function': 'expsech'}"
      ]
     },
     "execution_count": 25,
     "metadata": {},
     "output_type": "execute_result"
    }
   ],
   "source": [
    "# What configuration does the group use?\n",
    "\n",
    "pynbody.config"
   ]
  },
  {
   "cell_type": "code",
   "execution_count": 33,
   "id": "993207d2",
   "metadata": {},
   "outputs": [
    {
     "data": {
      "text/plain": [
       "8"
      ]
     },
     "execution_count": 33,
     "metadata": {},
     "output_type": "execute_result"
    }
   ],
   "source": [
    "# Understanding threading\n",
    "pynbody.config['number_of_threads']\n",
    "\n"
   ]
  },
  {
   "cell_type": "code",
   "execution_count": 34,
   "id": "a864f17c",
   "metadata": {},
   "outputs": [
    {
     "data": {
      "text/plain": [
       "1"
      ]
     },
     "execution_count": 34,
     "metadata": {},
     "output_type": "execute_result"
    }
   ],
   "source": [
    "pynbody.openmp.get_cpus()"
   ]
  },
  {
   "cell_type": "code",
   "execution_count": null,
   "id": "b47ce704",
   "metadata": {},
   "outputs": [],
   "source": []
  }
 ],
 "metadata": {
  "kernelspec": {
   "display_name": "Python 3",
   "language": "python",
   "name": "python3"
  },
  "language_info": {
   "codemirror_mode": {
    "name": "ipython",
    "version": 3
   },
   "file_extension": ".py",
   "mimetype": "text/x-python",
   "name": "python",
   "nbconvert_exporter": "python",
   "pygments_lexer": "ipython3",
   "version": "3.8.8"
  }
 },
 "nbformat": 4,
 "nbformat_minor": 5
}
