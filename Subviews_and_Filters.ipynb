{
 "cells": [
  {
   "cell_type": "code",
   "execution_count": 49,
   "id": "3e59c70e-4881-4733-82dc-8456da0be7f9",
   "metadata": {},
   "outputs": [],
   "source": [
    "import numpy as np\n",
    "\n",
    "import pynbody\n",
    "\n",
    "sim = pynbody.load('testdata/g15784.lr.01024.gz')\n",
    "\n",
    "sim.loadable_keys();\n",
    "# index = np.where(sim[\"pos\"]==group_id)\n",
    "# (sim[\"mass\"][index]*sim[\"pos\"][index]).mean(axis=0)"
   ]
  },
  {
   "cell_type": "code",
   "execution_count": 29,
   "id": "7ce8a856",
   "metadata": {},
   "outputs": [
    {
     "data": {
      "text/plain": [
       "SimArray(1.3891121e-07, '4.75e+16 Msol')"
      ]
     },
     "execution_count": 29,
     "metadata": {},
     "output_type": "execute_result"
    }
   ],
   "source": [
    "# some reason I can't multiply the two together\n",
    "# (sim[\"mass\"]*sim[\"pos\"]).mean(axis=0)\n",
    "(sim[\"mass\"]).mean(axis=0)"
   ]
  },
  {
   "cell_type": "code",
   "execution_count": 32,
   "id": "e5d946fc",
   "metadata": {},
   "outputs": [],
   "source": [
    "h = sim.halos()\n",
    "h1 = h[1]"
   ]
  },
  {
   "cell_type": "code",
   "execution_count": 33,
   "id": "01490da2",
   "metadata": {},
   "outputs": [
    {
     "data": {
      "text/plain": [
       "SimArray(7.10610925e-11, '4.75e+16 Msol')"
      ]
     },
     "execution_count": 33,
     "metadata": {},
     "output_type": "execute_result"
    }
   ],
   "source": [
    "(h1['mass']).mean(axis=0)"
   ]
  },
  {
   "cell_type": "code",
   "execution_count": 37,
   "id": "4358c478",
   "metadata": {},
   "outputs": [
    {
     "data": {
      "text/plain": [
       "SimArray([ True,  True,  True,  True,  True,  True,  True,  True,  True,\n",
       "           True,  True,  True,  True,  True,  True,  True,  True,  True,\n",
       "           True,  True,  True,  True,  True,  True,  True,  True])"
      ]
     },
     "execution_count": 37,
     "metadata": {},
     "output_type": "execute_result"
    }
   ],
   "source": [
    "# slices starting at the 22nd particle and ending on the 99th and going\n",
    "# by 2s.\n",
    "subsim = sim[22:100:3] # new simsnap object\n",
    "sim[22:73:2][\"x\"] == sim[\"x\"][22:100:2]\n",
    "subsim[\"x\"] == sim[\"x\"][22:73:2]"
   ]
  },
  {
   "cell_type": "code",
   "execution_count": 40,
   "id": "f2cfaec6",
   "metadata": {},
   "outputs": [
    {
     "data": {
      "text/plain": [
       "SimArray([0.01070931, 0.01140571, 0.01159962, ..., 0.02442261, 0.02445675,\n",
       "          0.02456377], '6.85e+04 kpc a')"
      ]
     },
     "execution_count": 40,
     "metadata": {},
     "output_type": "execute_result"
    }
   ],
   "source": [
    "# makes changes to the full data\n",
    "subsim['x'][0] = 22\n",
    "sim['x']"
   ]
  },
  {
   "cell_type": "code",
   "execution_count": 42,
   "id": "af3c05e7",
   "metadata": {},
   "outputs": [],
   "source": [
    "radius = \"1 kpc\" # or might be a float if you already know your units\n",
    "\n",
    "centre = (0,0,0) # Take the origin for now\n",
    "# creates a new standard subism called sphere (filters)\n",
    "sphere = sim[pynbody.filt.Sphere(radius, centre)]"
   ]
  },
  {
   "cell_type": "code",
   "execution_count": 43,
   "id": "40af6262",
   "metadata": {},
   "outputs": [
    {
     "data": {
      "text/plain": [
       "SimArray([], shape=(0, 3), dtype=float64, '6.85e+04 kpc a')"
      ]
     },
     "execution_count": 43,
     "metadata": {},
     "output_type": "execute_result"
    }
   ],
   "source": [
    "# Gives the total mass of the sphere\n",
    "sphere[\"mass\"].sum()"
   ]
  },
  {
   "cell_type": "code",
   "execution_count": 45,
   "id": "ada0b07e",
   "metadata": {},
   "outputs": [
    {
     "data": {
      "text/plain": [
       "SimArray([], shape=(0, 3), dtype=float64, '6.85e+04 kpc a')"
      ]
     },
     "execution_count": 45,
     "metadata": {},
     "output_type": "execute_result"
    }
   ],
   "source": [
    "sphere['pos'] # Gives position of the sphere"
   ]
  },
  {
   "cell_type": "code",
   "execution_count": 47,
   "id": "bbe58d0d",
   "metadata": {},
   "outputs": [],
   "source": [
    "young = pynbody.filt.LowPass('age', '1 Gyr')\n",
    "old = pynbody.filt.HighPass('age', '10 Gyr')\n",
    "\n",
    "intermediate = pynbody.filt.BandPass('age', '3 Gyr', '7 Gyr')"
   ]
  },
  {
   "cell_type": "code",
   "execution_count": null,
   "id": "60767acf",
   "metadata": {},
   "outputs": [],
   "source": []
  },
  {
   "cell_type": "code",
   "execution_count": null,
   "id": "917c343e",
   "metadata": {},
   "outputs": [],
   "source": []
  }
 ],
 "metadata": {
  "kernelspec": {
   "display_name": "Python 3",
   "language": "python",
   "name": "python3"
  },
  "language_info": {
   "codemirror_mode": {
    "name": "ipython",
    "version": 3
   },
   "file_extension": ".py",
   "mimetype": "text/x-python",
   "name": "python",
   "nbconvert_exporter": "python",
   "pygments_lexer": "ipython3",
   "version": "3.8.8"
  }
 },
 "nbformat": 4,
 "nbformat_minor": 5
}
