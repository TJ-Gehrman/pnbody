{
 "cells": [
  {
   "cell_type": "code",
   "execution_count": 1,
   "id": "3e59c70e-4881-4733-82dc-8456da0be7f9",
   "metadata": {},
   "outputs": [],
   "source": [
    "import pynbody\n",
    "\n",
    "import numpy as np\n",
    "\n",
    "f1 = pynbody.load(\"tutorial_gadget/snapshot_018\")\n",
    "\n",
    "f2 = pynbody.load(\"tutorial_gadget/snapshot_020\")"
   ]
  },
  {
   "cell_type": "code",
   "execution_count": 2,
   "id": "0a60c4d8",
   "metadata": {},
   "outputs": [
    {
     "data": {
      "text/plain": [
       "'f1 redshift=0.48; f2 redshift=0.00'"
      ]
     },
     "execution_count": 2,
     "metadata": {},
     "output_type": "execute_result"
    }
   ],
   "source": [
    "\n",
    "# verify redshift\n",
    "\"f1 redshift=%.2f; f2 redshift=%.2f\"%(f1.properties['z'], f2.properties['z'])"
   ]
  },
  {
   "cell_type": "code",
   "execution_count": 3,
   "id": "e60e2f57",
   "metadata": {},
   "outputs": [],
   "source": [
    "# Halo at low redshift\n",
    "h2 = f2.halos()"
   ]
  },
  {
   "cell_type": "code",
   "execution_count": 4,
   "id": "5a4b713f",
   "metadata": {},
   "outputs": [],
   "source": [
    "# creates the bridge object \n",
    "b = f2.bridge(f1)"
   ]
  },
  {
   "cell_type": "code",
   "execution_count": 5,
   "id": "d6dd21f7",
   "metadata": {},
   "outputs": [],
   "source": [
    "progenitor_particles = b(h2[9])"
   ]
  },
  {
   "cell_type": "code",
   "execution_count": 9,
   "id": "f06fd974",
   "metadata": {},
   "outputs": [
    {
     "data": {
      "text/plain": [
       "SimArray([1703383, 1637974, 1706077, ..., 2085209,   20825,    4440])"
      ]
     },
     "execution_count": 9,
     "metadata": {},
     "output_type": "execute_result"
    }
   ],
   "source": [
    "# Unique particle indexes iord\n",
    "h2[9]['iord']"
   ]
  },
  {
   "cell_type": "code",
   "execution_count": 7,
   "id": "127695c8",
   "metadata": {},
   "outputs": [
    {
     "data": {
      "text/plain": [
       "SimArray([1703383, 1637974, 1706077, ..., 2085209,   20825,    4440])"
      ]
     },
     "execution_count": 7,
     "metadata": {},
     "output_type": "execute_result"
    }
   ],
   "source": [
    "progenitor_particles['iord']"
   ]
  },
  {
   "cell_type": "code",
   "execution_count": 11,
   "id": "ce2cc755",
   "metadata": {},
   "outputs": [
    {
     "data": {
      "text/plain": [
       "True"
      ]
     },
     "execution_count": 11,
     "metadata": {},
     "output_type": "execute_result"
    }
   ],
   "source": [
    "# statment to show that all halo nine particle indexes\n",
    "# are the same as the progenitor particles\n",
    "all(h2[9]['iord'] == progenitor_particles['iord'])"
   ]
  },
  {
   "cell_type": "code",
   "execution_count": 12,
   "id": "e6b37c7f",
   "metadata": {},
   "outputs": [
    {
     "data": {
      "text/plain": [
       "SimArray([44.0088008 , 43.99995   , 44.06862841, ..., 46.11663313,\n",
       "          46.11094241, 46.1493806 ], 'Mpc a h**-1')"
      ]
     },
     "execution_count": 12,
     "metadata": {},
     "output_type": "execute_result"
    }
   ],
   "source": [
    "# progenitor particles x coordinates. To show the indexes\n",
    "# are the same but the properties are not because they are from \n",
    "# two different snapshots of the simulation.\n",
    "progenitor_particles['x']"
   ]
  },
  {
   "cell_type": "code",
   "execution_count": 13,
   "id": "2939517f",
   "metadata": {},
   "outputs": [
    {
     "data": {
      "text/plain": [
       "SimArray([45.55277015, 45.56460556, 45.54647529, ..., 44.46931648,\n",
       "          44.53770257, 44.43297325], 'Mpc a h**-1')"
      ]
     },
     "execution_count": 13,
     "metadata": {},
     "output_type": "execute_result"
    }
   ],
   "source": [
    "# halo nine from output 2 x coordinates. \n",
    "h2[9]['x']"
   ]
  },
  {
   "cell_type": "code",
   "execution_count": 14,
   "id": "5d19e843",
   "metadata": {},
   "outputs": [],
   "source": [
    "cat = b.match_catalog()"
   ]
  },
  {
   "cell_type": "code",
   "execution_count": 15,
   "id": "31e4494b",
   "metadata": {},
   "outputs": [
    {
     "data": {
      "text/plain": [
       "array([-2, 17,  2,  3,  5,  7, 19,  9, 10, 12, 14, 13, -1, -1, 28, 15, -1,\n",
       "       27, 16, 20, 26, 22, 18, -1, -1, 21, -1, 23, 24, -1, -1])"
      ]
     },
     "execution_count": 15,
     "metadata": {},
     "output_type": "execute_result"
    }
   ],
   "source": [
    "# negative values indicate a halo that either does not exist\n",
    "# or that cannot be matched in the counterpart catalouge.\n",
    "cat"
   ]
  },
  {
   "cell_type": "code",
   "execution_count": 16,
   "id": "3f445b00",
   "metadata": {},
   "outputs": [],
   "source": [
    "b = pynbody.bridge.Bridge(f1, f2)"
   ]
  },
  {
   "cell_type": "code",
   "execution_count": 17,
   "id": "9e36a147",
   "metadata": {},
   "outputs": [],
   "source": [
    "b2 = pynbody.bridge.OrderBridge(f1, f2)"
   ]
  },
  {
   "cell_type": "code",
   "execution_count": 18,
   "id": "62b5ef5f",
   "metadata": {},
   "outputs": [],
   "source": [
    "b3 = pynbody.bridge.OrderBridge(f1, f2, monotonic=False)"
   ]
  },
  {
   "cell_type": "code",
   "execution_count": null,
   "id": "6aa0c298",
   "metadata": {},
   "outputs": [],
   "source": []
  }
 ],
 "metadata": {
  "kernelspec": {
   "display_name": "Python 3",
   "language": "python",
   "name": "python3"
  },
  "language_info": {
   "codemirror_mode": {
    "name": "ipython",
    "version": 3
   },
   "file_extension": ".py",
   "mimetype": "text/x-python",
   "name": "python",
   "nbconvert_exporter": "python",
   "pygments_lexer": "ipython3",
   "version": "3.8.8"
  }
 },
 "nbformat": 4,
 "nbformat_minor": 5
}
