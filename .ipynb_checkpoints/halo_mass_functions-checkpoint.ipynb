{
 "cells": [
  {
   "cell_type": "code",
   "execution_count": 1,
   "id": "3e59c70e-4881-4733-82dc-8456da0be7f9",
   "metadata": {},
   "outputs": [],
   "source": [
    "import pynbody;\n",
    "\n",
    "s = pynbody.load('tutorial_gadget/snapshot_020')\n",
    "\n",
    "s.physical_units()"
   ]
  },
  {
   "cell_type": "code",
   "execution_count": 2,
   "id": "93653435",
   "metadata": {},
   "outputs": [
    {
     "data": {
      "text/plain": [
       "{'omegaM0': 0.279,\n",
       " 'omegaL0': 0.721,\n",
       " 'boxsize': Unit(\"7.13e+04 kpc\"),\n",
       " 'a': 0.9999999999999996,\n",
       " 'h': 0.701,\n",
       " 'time': Unit(\"1.40e+01 kpc s km**-1\")}"
      ]
     },
     "execution_count": 2,
     "metadata": {},
     "output_type": "execute_result"
    }
   ],
   "source": [
    "s.properties"
   ]
  },
  {
   "cell_type": "code",
   "execution_count": null,
   "id": "d18c9b61",
   "metadata": {},
   "outputs": [],
   "source": [
    "s.properties['sigma']"
   ]
  }
 ],
 "metadata": {
  "kernelspec": {
   "display_name": "Python 3",
   "language": "python",
   "name": "python3"
  },
  "language_info": {
   "codemirror_mode": {
    "name": "ipython",
    "version": 3
   },
   "file_extension": ".py",
   "mimetype": "text/x-python",
   "name": "python",
   "nbconvert_exporter": "python",
   "pygments_lexer": "ipython3",
   "version": "3.8.8"
  }
 },
 "nbformat": 4,
 "nbformat_minor": 5
}
