{
 "cells": [
  {
   "cell_type": "code",
   "execution_count": 1,
   "id": "3e59c70e-4881-4733-82dc-8456da0be7f9",
   "metadata": {},
   "outputs": [],
   "source": [
    "import pynbody \n",
    "\n",
    "import matplotlib.pylab as plt\n",
    "\n",
    "s = pynbody.load('testdata/g15784.lr.01024.gz')"
   ]
  },
  {
   "cell_type": "code",
   "execution_count": 2,
   "id": "72bf8851",
   "metadata": {},
   "outputs": [],
   "source": [
    "h = s.halos()"
   ]
  },
  {
   "cell_type": "code",
   "execution_count": 3,
   "id": "eba2bc06",
   "metadata": {},
   "outputs": [
    {
     "data": {
      "text/plain": [
       "1411"
      ]
     },
     "execution_count": 3,
     "metadata": {},
     "output_type": "execute_result"
    }
   ],
   "source": [
    "len(h)"
   ]
  },
  {
   "cell_type": "code",
   "execution_count": 16,
   "id": "f0ea0185",
   "metadata": {},
   "outputs": [
    {
     "name": "stdout",
     "output_type": "stream",
     "text": [
      "502300\n",
      "82543\n",
      "24613\n",
      "11047\n"
     ]
    }
   ],
   "source": [
    "for i in range(4):\n",
    "    halo = len(h[i+1])\n",
    "    print(halo) "
   ]
  },
  {
   "cell_type": "code",
   "execution_count": 23,
   "id": "f972ae51",
   "metadata": {},
   "outputs": [
    {
     "name": "stdout",
     "output_type": "stream",
     "text": [
      "1.6963924146865035\n",
      "11.968341140262602\n",
      "2.0827660238124563\n",
      "0.31765623680107136\n"
     ]
    },
    {
     "data": {
      "text/plain": [
       "SimArray(1.69639241, '1.00e+12 Msol')"
      ]
     },
     "execution_count": 23,
     "metadata": {},
     "output_type": "execute_result"
    }
   ],
   "source": [
    "for i in range(4):\n",
    "    halo_sum = h[i+1]['mass'].sum().in_units('1e12 Msol')\n",
    "    print(halo_sum)\n",
    "h[1]['mass'].sum().in_units('1e12 Msol')"
   ]
  },
  {
   "cell_type": "code",
   "execution_count": 31,
   "id": "5f201054",
   "metadata": {},
   "outputs": [
    {
     "data": {
      "text/plain": [
       "SimArray([[ 0.02354224, -0.03455407, -0.12609582],\n",
       "          [ 0.02462317, -0.03333509, -0.12542604],\n",
       "          [ 0.02334234, -0.03473921, -0.12655626],\n",
       "          [ 0.02298368, -0.03313753, -0.12501729],\n",
       "          [ 0.0240172 , -0.03366778, -0.12646478],\n",
       "          [ 0.02375025, -0.03386926, -0.1252045 ],\n",
       "          [ 0.02437169, -0.03316253, -0.12610233],\n",
       "          [ 0.02453507, -0.03280163, -0.1251771 ],\n",
       "          [ 0.02472273, -0.03248059, -0.12495787],\n",
       "          [ 0.02396031, -0.03339943, -0.12720867]], '6.85e+04 kpc a')"
      ]
     },
     "execution_count": 31,
     "metadata": {},
     "output_type": "execute_result"
    }
   ],
   "source": [
    "h[1]['pos'][:10]"
   ]
  },
  {
   "cell_type": "code",
   "execution_count": 32,
   "id": "944d3e6d",
   "metadata": {},
   "outputs": [
    {
     "data": {
      "text/plain": [
       "<pynbody.transformation.GenericTranslation at 0x7ffa9fc3ebb0>"
      ]
     },
     "execution_count": 32,
     "metadata": {},
     "output_type": "execute_result"
    }
   ],
   "source": [
    "pynbody.analysis.halo.center(h[1])"
   ]
  },
  {
   "cell_type": "code",
   "execution_count": 41,
   "id": "1aa20139",
   "metadata": {},
   "outputs": [
    {
     "data": {
      "image/png": "[encoded data removed]",
      "text/plain": [
       "<Figure size 432x288 with 2 Axes>"
      ]
     },
     "metadata": {
      "needs_background": "light"
     },
     "output_type": "display_data"
    }
   ],
   "source": [
    "im = pynbody.plot.image(h[1].d, width = '1 Mpc', cmap=plt.cm.Blues, units = 'Msol kpc^-2')"
   ]
  },
  {
   "cell_type": "code",
   "execution_count": 42,
   "id": "09209cbd",
   "metadata": {},
   "outputs": [
    {
     "data": {
      "text/plain": [
       "[]"
      ]
     },
     "execution_count": 42,
     "metadata": {},
     "output_type": "execute_result"
    }
   ],
   "source": [
    "h[1].properties['children']"
   ]
  },
  {
   "cell_type": "code",
   "execution_count": 43,
   "id": "1340d0e5",
   "metadata": {},
   "outputs": [
    {
     "data": {
      "text/plain": [
       "dict_keys(['omegaM0', 'omegaL0', 'h', 'boxsize', 'a', 'time', 'halo_id', 'npart', 'nvpart', 'Xc', 'Yc', 'Zc', 'VXc', 'VYc', 'VZc', 'mass', 'Rvir', 'Vmax', 'Rmax', 'sigV', 'lambda', 'Lx', 'Ly', 'Lz', 'a_axis', 'Eax', 'Eay', 'Eaz', 'b_axis', 'Ebx', 'Eby', 'Ebz', 'c_axis', 'Ecx', 'Ecy', 'Ecz', 'ovdens', 'Redge', 'nbins', 'Ekin', 'Epot', 'mbp_offset', 'com_offset', 'r2', 'lambdaE', 'v_esc', 'Phi0', 'n_gas', 'M_gas', 'lambda_gas', 'Lx_gas', 'Ly_gas', 'Lz_gas', 'a_gas', 'Eax_gas', 'Eay_gas', 'Eaz_gas', 'b_gas', 'Ebx_gas', 'Eby_gas', 'Ebz_gas', 'c_gas', 'Ecx_gas', 'Ecy_gas', 'Ecz_gas', 'Ekin_gas', 'Epot_gas', 'lambdaE_gas', 'n_star', 'M_star', 'lambda_star', 'Lx_star', 'Ly_star', 'Lz_star', 'a_star', 'Eax_star', 'Eay_star', 'Eaz_star', 'b_star', 'Ebx_star', 'Eby_star', 'Ebz_star', 'c_star', 'Ecx_star', 'Ecy_star', 'Ecz_star', 'Ekin_star', 'Epot_star', 'lambdaE_star', 'fstart', 'children'])"
      ]
     },
     "execution_count": 43,
     "metadata": {},
     "output_type": "execute_result"
    }
   ],
   "source": [
    "h[1].properties.keys()"
   ]
  },
  {
   "cell_type": "code",
   "execution_count": 51,
   "id": "91a091b9",
   "metadata": {},
   "outputs": [
    {
     "data": {
      "text/plain": [
       "1.19684"
      ]
     },
     "execution_count": 51,
     "metadata": {},
     "output_type": "execute_result"
    }
   ],
   "source": [
    "f = pynbody.load(\"testdata/g15784.lr.01024\")\n",
    "\n",
    "h = f.halos()\n",
    "\n",
    "h[2].properties['mass']/1e13 # another property calculated by AHF in Msol/h"
   ]
  },
  {
   "cell_type": "code",
   "execution_count": 49,
   "id": "5c3c9b08",
   "metadata": {},
   "outputs": [
    {
     "data": {
      "text/plain": [
       "82543"
      ]
     },
     "execution_count": 49,
     "metadata": {},
     "output_type": "execute_result"
    }
   ],
   "source": [
    "len(h[2])"
   ]
  },
  {
   "cell_type": "code",
   "execution_count": 52,
   "id": "95baec21",
   "metadata": {},
   "outputs": [],
   "source": [
    "h =f.halos(dummy=True)"
   ]
  },
  {
   "cell_type": "code",
   "execution_count": 53,
   "id": "f3643272",
   "metadata": {},
   "outputs": [
    {
     "data": {
      "text/plain": [
       "11968400000000.0"
      ]
     },
     "execution_count": 53,
     "metadata": {},
     "output_type": "execute_result"
    }
   ],
   "source": [
    "h[2].properties['mass']"
   ]
  },
  {
   "cell_type": "code",
   "execution_count": 54,
   "id": "c5cf5ad1",
   "metadata": {},
   "outputs": [
    {
     "data": {
      "text/plain": [
       "82543"
      ]
     },
     "execution_count": 54,
     "metadata": {},
     "output_type": "execute_result"
    }
   ],
   "source": [
    "len(h[2])"
   ]
  },
  {
   "cell_type": "code",
   "execution_count": 55,
   "id": "cc670728",
   "metadata": {},
   "outputs": [],
   "source": [
    "h2data = h.load_copy(2)"
   ]
  },
  {
   "cell_type": "code",
   "execution_count": 56,
   "id": "27ddd313",
   "metadata": {},
   "outputs": [
    {
     "data": {
      "text/plain": [
       "82543"
      ]
     },
     "execution_count": 56,
     "metadata": {},
     "output_type": "execute_result"
    }
   ],
   "source": [
    "len(h2data)"
   ]
  },
  {
   "cell_type": "code",
   "execution_count": 57,
   "id": "b173d0df",
   "metadata": {},
   "outputs": [
    {
     "data": {
      "text/plain": [
       "SimArray([2.23517413e-10, 2.23517413e-10, 2.23517413e-10, ...,\n",
       "          1.14440915e-07, 1.14440915e-07, 1.14440915e-07], '4.75e+16 Msol')"
      ]
     },
     "execution_count": 57,
     "metadata": {},
     "output_type": "execute_result"
    }
   ],
   "source": [
    "h2data['mass']"
   ]
  },
  {
   "cell_type": "code",
   "execution_count": 58,
   "id": "eeb55d0e",
   "metadata": {},
   "outputs": [],
   "source": [
    "s = pynbody.load('testdata/Test_NOSN_NOZCOOL_L010N0128/data/snapshot_103/snap_103.hdf5')\n",
    "\n",
    "s.physical_units()"
   ]
  },
  {
   "cell_type": "code",
   "execution_count": 60,
   "id": "94f1c4e7",
   "metadata": {},
   "outputs": [],
   "source": [
    "s = pynbody.load('testdata/Test_NOSN_NOZCOOL_L010N0128/data/subhalos_103/subhalo_103')\n",
    "\n",
    "s.physical_units()\n",
    "\n",
    "h = s.halos()"
   ]
  },
  {
   "cell_type": "code",
   "execution_count": 61,
   "id": "c4919fdc",
   "metadata": {},
   "outputs": [
    {
     "name": "stdout",
     "output_type": "stream",
     "text": [
      "15682\n",
      "5064\n",
      "4910\n",
      "3286\n"
     ]
    }
   ],
   "source": [
    "for i in range(4):\n",
    "    halo = len(h[i])\n",
    "    print(halo)"
   ]
  },
  {
   "cell_type": "code",
   "execution_count": 62,
   "id": "df2bb4d2",
   "metadata": {},
   "outputs": [
    {
     "data": {
      "text/plain": [
       "15682"
      ]
     },
     "execution_count": 62,
     "metadata": {},
     "output_type": "execute_result"
    }
   ],
   "source": [
    "len(h[0]) # weird that there is a halo 0 "
   ]
  },
  {
   "cell_type": "code",
   "execution_count": 63,
   "id": "8a84ba0a",
   "metadata": {},
   "outputs": [
    {
     "data": {
      "text/plain": [
       "SimArray(12.6504316, '1.00e+10 Msol')"
      ]
     },
     "execution_count": 63,
     "metadata": {},
     "output_type": "execute_result"
    }
   ],
   "source": [
    "h[1]['mass'].sum().in_units('1e10 Msol')"
   ]
  },
  {
   "cell_type": "code",
   "execution_count": 108,
   "id": "28e78a16",
   "metadata": {},
   "outputs": [
    {
     "data": {
      "text/plain": [
       "SimArray([[ 0.03453256,  0.00474002, -0.00561874],\n",
       "          [ 0.00826805,  0.09281668,  0.06015573],\n",
       "          [-0.00169435,  0.08240144, -0.05911003],\n",
       "          [ 0.10472218,  0.05749545,  0.01204188],\n",
       "          [-0.03565707, -0.01201492, -0.01031692]], 'kpc')"
      ]
     },
     "execution_count": 108,
     "metadata": {},
     "output_type": "execute_result"
    }
   ],
   "source": [
    "h[1]['pos'][:5].in_units('kpc')"
   ]
  },
  {
   "cell_type": "code",
   "execution_count": 87,
   "id": "436aa26f",
   "metadata": {},
   "outputs": [
    {
     "data": {
      "text/plain": [
       "<pynbody.transformation.GenericTranslation at 0x7ffa8f9954c0>"
      ]
     },
     "execution_count": 87,
     "metadata": {},
     "output_type": "execute_result"
    }
   ],
   "source": [
    "# for i in range(5):\n",
    "pynbody.analysis.halo.center(h[1], vel=False)"
   ]
  },
  {
   "cell_type": "code",
   "execution_count": 89,
   "id": "a87d5145",
   "metadata": {},
   "outputs": [
    {
     "data": {
      "text/plain": [
       "SimArray([[9.8166791e-05, 9.8166791e-05, 9.8166791e-05, ...,\n",
       "           9.8166791e-05, 9.8166791e-05, 9.8166791e-05],\n",
       "          [9.8166791e-05, 9.8166791e-05, 9.8166791e-05, ...,\n",
       "           7.1192989e+00, 3.9996271e+00, 8.7995505e-01],\n",
       "          [9.8166791e-05, 9.8166791e-05, 9.8166791e-05, ...,\n",
       "           1.4238598e+01, 7.9992542e+00, 1.7599101e+00],\n",
       "          ...,\n",
       "          [6.2906175e+06, 6.4868805e+06, 6.6831435e+06, ...,\n",
       "           2.8957910e+02, 1.9610310e+02, 1.0262711e+02],\n",
       "          [6.2095665e+06, 6.4002815e+06, 6.5909970e+06, ...,\n",
       "           2.2308986e+02, 1.4542860e+02, 6.7767342e+01],\n",
       "          [6.1285150e+06, 6.3136825e+06, 6.4988500e+06, ...,\n",
       "           1.5660065e+02, 9.4754105e+01, 3.2907570e+01]], dtype=float32, 'Msol kpc**-2')"
      ]
     },
     "execution_count": 89,
     "metadata": {},
     "output_type": "execute_result"
    },
    {
     "data": {
      "image/png": "[encoded data removed]",
      "text/plain": [
       "<Figure size 432x288 with 2 Axes>"
      ]
     },
     "metadata": {
      "needs_background": "light"
     },
     "output_type": "display_data"
    }
   ],
   "source": [
    "\n",
    "pynbody.plot.image(h[1].d, width = '50 kpc', cmap=plt.cm.turbo, units = 'Msol kpc^-2')\n",
    "\n"
   ]
  },
  {
   "cell_type": "code",
   "execution_count": 90,
   "id": "77e80f8a",
   "metadata": {},
   "outputs": [
    {
     "data": {
      "text/plain": [
       "[<SimSnap \"testdata/Test_NOSN_NOZCOOL_L010N0128/data/subhalos_103/subhalo_103:fof_group_1_subhalo_0\" len=4353>,\n",
       " <SimSnap \"testdata/Test_NOSN_NOZCOOL_L010N0128/data/subhalos_103/subhalo_103:fof_group_1_subhalo_1\" len=658>]"
      ]
     },
     "execution_count": 90,
     "metadata": {},
     "output_type": "execute_result"
    }
   ],
   "source": [
    "h[1].sub[:]"
   ]
  },
  {
   "cell_type": "code",
   "execution_count": 111,
   "id": "ab0c879d",
   "metadata": {},
   "outputs": [
    {
     "data": {
      "text/plain": [
       "SimArray([4.32145385, 4.32145385, 4.32145385, ..., 4.32145385, 4.32145385,\n",
       "          4.32145385], '1.00e+07 Msol')"
      ]
     },
     "execution_count": 111,
     "metadata": {},
     "output_type": "execute_result"
    }
   ],
   "source": [
    "# halo one sub halos velocities\n",
    "h[1].sub[0].d['mass'].in_units('1e7 Msol')"
   ]
  },
  {
   "cell_type": "code",
   "execution_count": 92,
   "id": "24e684a0",
   "metadata": {},
   "outputs": [
    {
     "data": {
      "text/plain": [
       "{'a': 0.1666666,\n",
       " 'omegaB0': 0.0458,\n",
       " 'omegaM0': 0.275,\n",
       " 'omegaL0': 0.725,\n",
       " 'boxsize': Unit(\"2.37e+03 kpc\"),\n",
       " 'h': 0.702,\n",
       " 'time': Unit(\"1.23e+00 kpc s km**-1\"),\n",
       " 'Flag_Cooling': 0,\n",
       " 'Flag_Feedback': 1,\n",
       " 'Flag_Metals': 1,\n",
       " 'Flag_Sfr': 1,\n",
       " 'Flag_StellarAge': 1,\n",
       " 'MassTable': array([0.        , 0.00303354, 0.        , 0.        , 0.        ,\n",
       "        0.        ]),\n",
       " 'NumFilesPerSnapshot': 1,\n",
       " 'NumPart_ThisFile': array([277386, 279009,      0,      0,   1635,      0], dtype=int32),\n",
       " 'NumPart_Total': array([0, 0, 0, 0, 0, 0], dtype=uint32),\n",
       " 'NumPart_Total_HighWord': array([0, 0, 0, 0, 0, 0], dtype=uint32),\n",
       " 'Redshift': 5.00000240000096,\n",
       " 'RunLabel': b'\"SubFind Parent Box 10 with 128 WMAP7\"\\n',\n",
       " 'halo_id': 2,\n",
       " 'CenterOfMass': SimArray([4.10285216, 6.03583403, 0.52038905], '3.09e+24 cm a h**-1'),\n",
       " 'CenterOfMassVelocity': SimArray([-0.43261364,  7.97283217, -3.20020145], '1.00e+05 cm a**1/2 s**-1'),\n",
       " 'Mass': SimArray(8.55388652, '1.99e+43 g h**-1'),\n",
       " 'MassType': SimArray([1.30246423, 6.97107166, 0.        , 0.        , 0.28035063,\n",
       "           0.        ], '1.99e+43 g h**-1'),\n",
       " 'StarFormationRate': SimArray(21.57577237, 'Msol yr**-1'),\n",
       " 'EnvironmentMass': SimArray(5.66983794, '1.99e+43 g h**-1'),\n",
       " 'FirstSubOfHalo': SimArray(8., '1.00e+00'),\n",
       " 'Halo_M_Crit200': SimArray(5.66983788, '1.99e+43 g h**-1'),\n",
       " 'Halo_M_Crit2500': SimArray(2.06321389, '1.99e+43 g h**-1'),\n",
       " 'Halo_M_Crit500': SimArray(3.71012813, '1.99e+43 g h**-1'),\n",
       " 'Halo_M_Mean200': SimArray(5.70745231, '1.99e+43 g h**-1'),\n",
       " 'Halo_M_Mean2500': SimArray(2.09112239, '1.99e+43 g h**-1'),\n",
       " 'Halo_M_Mean500': SimArray(3.74168088, '1.99e+43 g h**-1'),\n",
       " 'Halo_M_TopHat200': SimArray(6.10513212, '1.99e+43 g h**-1'),\n",
       " 'Halo_R_Crit200': SimArray(0.09568132, '3.09e+24 cm a h**-1'),\n",
       " 'Halo_R_Crit2500': SimArray(0.02943404, '3.09e+24 cm a h**-1'),\n",
       " 'Halo_R_Crit500': SimArray(0.06120673, '3.09e+24 cm a h**-1'),\n",
       " 'Halo_R_Mean200': SimArray(0.09628485, '3.09e+24 cm a h**-1'),\n",
       " 'Halo_R_Mean2500': SimArray(0.0296866, '3.09e+24 cm a h**-1'),\n",
       " 'Halo_R_Mean500': SimArray(0.06162657, '3.09e+24 cm a h**-1'),\n",
       " 'Halo_R_TopHat200': SimArray(0.10221511, '3.09e+24 cm a h**-1'),\n",
       " 'NsubPerHalo': SimArray(6., '1.00e+00')}"
      ]
     },
     "execution_count": 92,
     "metadata": {},
     "output_type": "execute_result"
    }
   ],
   "source": [
    "h[2].properties"
   ]
  },
  {
   "cell_type": "code",
   "execution_count": 101,
   "id": "a6292569",
   "metadata": {},
   "outputs": [
    {
     "data": {
      "text/plain": [
       "SimArray(5.66983788, '1.99e+43 g h**-1')"
      ]
     },
     "execution_count": 101,
     "metadata": {},
     "output_type": "execute_result"
    }
   ],
   "source": [
    "h[2].properties['Halo_M_Crit200']"
   ]
  },
  {
   "cell_type": "code",
   "execution_count": 102,
   "id": "5bc8b0dd",
   "metadata": {},
   "outputs": [
    {
     "data": {
      "text/plain": [
       "SimArray([4.10285216, 6.03583403, 0.52038905], '3.09e+24 cm a h**-1')"
      ]
     },
     "execution_count": 102,
     "metadata": {},
     "output_type": "execute_result"
    }
   ],
   "source": [
    "h[2].properties['CenterOfMass']"
   ]
  },
  {
   "cell_type": "code",
   "execution_count": 103,
   "id": "422a918e",
   "metadata": {},
   "outputs": [
    {
     "data": {
      "text/plain": [
       "{'a': 0.1666666,\n",
       " 'omegaB0': 0.0458,\n",
       " 'omegaM0': 0.275,\n",
       " 'omegaL0': 0.725,\n",
       " 'boxsize': Unit(\"2.37e+03 kpc\"),\n",
       " 'h': 0.702,\n",
       " 'time': Unit(\"1.23e+00 kpc s km**-1\"),\n",
       " 'Flag_Cooling': 0,\n",
       " 'Flag_Feedback': 1,\n",
       " 'Flag_Metals': 1,\n",
       " 'Flag_Sfr': 1,\n",
       " 'Flag_StellarAge': 1,\n",
       " 'MassTable': array([0.        , 0.00303354, 0.        , 0.        , 0.        ,\n",
       "        0.        ]),\n",
       " 'NumFilesPerSnapshot': 1,\n",
       " 'NumPart_ThisFile': array([277386, 279009,      0,      0,   1635,      0], dtype=int32),\n",
       " 'NumPart_Total': array([0, 0, 0, 0, 0, 0], dtype=uint32),\n",
       " 'NumPart_Total_HighWord': array([0, 0, 0, 0, 0, 0], dtype=uint32),\n",
       " 'Redshift': 5.00000240000096,\n",
       " 'RunLabel': b'\"SubFind Parent Box 10 with 128 WMAP7\"\\n',\n",
       " 'halo_id': 4,\n",
       " 'CenterOfMass': SimArray([4.04154364, 6.01377394, 0.52375431], '3.09e+24 cm a h**-1'),\n",
       " 'CenterOfMassVelocity': SimArray([-110.75990997,  -42.79930189,   12.74084843], '1.00e+05 cm s**-1'),\n",
       " 'GasSpin': SimArray([-0.00720652,  0.00422568,  0.00261926], '3.09e+29 cm**2 s**-1 h**-1'),\n",
       " 'GrNr': SimArray(2., '1.00e+00'),\n",
       " 'InertiaTensor': SimArray([ 4.03272663e-08,  1.44714877e-08, -1.30650405e-08,\n",
       "            1.44714877e-08,  2.74477659e-08, -2.03776720e-08,\n",
       "           -1.30650405e-08, -2.03776720e-08,  1.09618478e-07], '1.00e+00'),\n",
       " 'KineticEnergy': SimArray(43.73894562, '1.99e+53 cm**2 g h**-1 s**-2'),\n",
       " 'Mass': SimArray(0.07278115, '1.99e+43 g h**-1'),\n",
       " 'MassType': SimArray([0.01114693, 0.06067077, 0.        , 0.        , 0.00096345,\n",
       "           0.        ], '1.99e+43 g h**-1'),\n",
       " 'NSFSpin': SimArray([-0.01060776,  0.00725118,  0.00515794], '3.09e+29 cm**2 s**-1 h**-1'),\n",
       " 'Position': SimArray([4.04084158, 6.01266718, 0.52605957], '3.09e+24 cm a h**-1'),\n",
       " 'SFSpin': SimArray([-0.00051066, -0.00173048, -0.00237851], '3.09e+29 cm**2 s**-1 h**-1'),\n",
       " 'StarFormationRate': SimArray(0.02626844, 'Msol yr**-1'),\n",
       " 'StarSpin': SimArray([-0.00552418, -0.00141915,  0.00129262], '3.09e+29 cm**2 s**-1 h**-1'),\n",
       " 'SubHalfMass': SimArray([0.00133806, 0.00118501, 0.        , 0.        , 0.        ,\n",
       "           0.        ], '3.09e+24 cm h**-1'),\n",
       " 'SubHalfMassProj': SimArray([0.00088806, 0.00087589, 0.        , 0.        , 0.        ,\n",
       "           0.        ], '3.09e+24 cm h**-1'),\n",
       " 'SubMostBoundID': SimArray(189504., '1.00e+00'),\n",
       " 'SubParentHalo': SimArray(0., '1.00e+00'),\n",
       " 'SubSpin': SimArray([-0.00650772, -0.00060551, -0.00222365], '3.09e+29 cm**2 s**-1 h**-1'),\n",
       " 'SubStellarVelDisp': SimArray(5.86365743, '1.00e+05 cm s**-1'),\n",
       " 'SubStellarVelDispHalfProj': SimArray(7.82626988, '1.00e+05 cm s**-1'),\n",
       " 'SubVelDisp': SimArray(20.69081247, '1.00e+05 cm s**-1'),\n",
       " 'SubVmax': SimArray(37.465686, '1.00e+05 cm s**-1'),\n",
       " 'SubVmaxRad': SimArray(0.00157904, '3.09e+24 cm h**-1'),\n",
       " 'ThermalEnergy': SimArray(2.66547059, '1.99e+53 cm**2 g h**-1 s**-2'),\n",
       " 'TotalEnergy': SimArray(-25.37823918, '1.99e+53 cm**2 g h**-1 s**-2')}"
      ]
     },
     "execution_count": 103,
     "metadata": {},
     "output_type": "execute_result"
    }
   ],
   "source": [
    "h[2].sub[4].properties"
   ]
  },
  {
   "cell_type": "code",
   "execution_count": 104,
   "id": "71a029a5",
   "metadata": {},
   "outputs": [],
   "source": [
    "\n",
    "\n",
    "SubStellarVelDisp = [[subhalo.properties['SubStellarVelDisp'] for subhalo in halo.sub] for halo in h]"
   ]
  },
  {
   "cell_type": "code",
   "execution_count": 126,
   "id": "f6979f71",
   "metadata": {},
   "outputs": [
    {
     "data": {
      "text/plain": [
       "[SimArray(17.81290816, '1.00e+05 cm s**-1'),\n",
       " SimArray(12.63134063, '1.00e+05 cm s**-1'),\n",
       " SimArray(0., '1.00e+05 cm s**-1'),\n",
       " SimArray(0., '1.00e+05 cm s**-1')]"
      ]
     },
     "execution_count": 126,
     "metadata": {},
     "output_type": "execute_result"
    }
   ],
   "source": [
    "SubStellarVelDisp[100]"
   ]
  },
  {
   "cell_type": "code",
   "execution_count": 123,
   "id": "3da3176d",
   "metadata": {},
   "outputs": [
    {
     "data": {
      "text/plain": [
       "3286"
      ]
     },
     "execution_count": 123,
     "metadata": {},
     "output_type": "execute_result"
    }
   ],
   "source": [
    "halo"
   ]
  },
  {
   "cell_type": "code",
   "execution_count": 125,
   "id": "ccb7eccf",
   "metadata": {},
   "outputs": [
    {
     "data": {
      "text/plain": [
       "4226"
      ]
     },
     "execution_count": 125,
     "metadata": {},
     "output_type": "execute_result"
    }
   ],
   "source": [
    "len(h)"
   ]
  },
  {
   "cell_type": "code",
   "execution_count": null,
   "id": "6c7d6066",
   "metadata": {},
   "outputs": [],
   "source": []
  }
 ],
 "metadata": {
  "kernelspec": {
   "display_name": "Python 3",
   "language": "python",
   "name": "python3"
  },
  "language_info": {
   "codemirror_mode": {
    "name": "ipython",
    "version": 3
   },
   "file_extension": ".py",
   "mimetype": "text/x-python",
   "name": "python",
   "nbconvert_exporter": "python",
   "pygments_lexer": "ipython3",
   "version": "3.8.8"
  }
 },
 "nbformat": 4,
 "nbformat_minor": 5
}
